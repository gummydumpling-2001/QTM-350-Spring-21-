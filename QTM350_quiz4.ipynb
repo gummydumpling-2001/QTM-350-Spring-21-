{
  "nbformat": 4,
  "nbformat_minor": 0,
  "metadata": {
    "colab": {
      "name": "Untitled1.ipynb",
      "provenance": [],
      "authorship_tag": "ABX9TyNIlY7x8a61cMcYa/GlZqxU",
      "include_colab_link": true
    },
    "kernelspec": {
      "name": "python3",
      "display_name": "Python 3"
    }
  },
  "cells": [
    {
      "cell_type": "markdown",
      "metadata": {
        "id": "view-in-github",
        "colab_type": "text"
      },
      "source": [
        "<a href=\"https://colab.research.google.com/github/gummydumpling-2001/QTM-350-Spring-21-/blob/main/QTM350_quiz4.ipynb\" target=\"_parent\"><img src=\"https://colab.research.google.com/assets/colab-badge.svg\" alt=\"Open In Colab\"/></a>"
      ]
    },
    {
      "cell_type": "code",
      "metadata": {
        "colab": {
          "base_uri": "https://localhost:8080/"
        },
        "id": "wlz2CfPE5Nzr",
        "outputId": "99654a81-8818-4e08-c206-435cb6a9743c"
      },
      "source": [
        "!wget http://archive.ics.uci.edu/ml/machine-learning-databases/adult/adult.data"
      ],
      "execution_count": 6,
      "outputs": [
        {
          "output_type": "stream",
          "text": [
            "--2021-02-23 16:47:32--  http://archive.ics.uci.edu/ml/machine-learning-databases/adult/adult.data\n",
            "Resolving archive.ics.uci.edu (archive.ics.uci.edu)... 128.195.10.252\n",
            "Connecting to archive.ics.uci.edu (archive.ics.uci.edu)|128.195.10.252|:80... connected.\n",
            "HTTP request sent, awaiting response... 200 OK\n",
            "Length: 3974305 (3.8M) [application/x-httpd-php]\n",
            "Saving to: ‘adult.data.1’\n",
            "\n",
            "adult.data.1        100%[===================>]   3.79M  7.24MB/s    in 0.5s    \n",
            "\n",
            "2021-02-23 16:47:33 (7.24 MB/s) - ‘adult.data.1’ saved [3974305/3974305]\n",
            "\n"
          ],
          "name": "stdout"
        }
      ]
    },
    {
      "cell_type": "code",
      "metadata": {
        "id": "RPsPBMBZx1WR"
      },
      "source": [
        "!echo \"age,workclass,fnlwgt,education,education-num,marital-status,occupation,relationship,race,sex,capital-gain,capital-loss,native-country,class\" > header.csv"
      ],
      "execution_count": 7,
      "outputs": []
    },
    {
      "cell_type": "code",
      "metadata": {
        "id": "7nvj2bq2yRbD"
      },
      "source": [
        "!cat header.csv adult.data > adult.csv"
      ],
      "execution_count": 8,
      "outputs": []
    },
    {
      "cell_type": "code",
      "metadata": {
        "id": "tk67Kv6SybCo"
      },
      "source": [
        "!head -n 120 adult.csv | tail -n 20 > adult_sample.csv"
      ],
      "execution_count": 9,
      "outputs": []
    },
    {
      "cell_type": "code",
      "metadata": {
        "id": "eDPITs7jyb9s"
      },
      "source": [
        "!cat adult_sample.csv header.csv > adult_sample_with_header.csv"
      ],
      "execution_count": 11,
      "outputs": []
    }
  ]
}